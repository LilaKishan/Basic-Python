{
 "cells": [
  {
   "cell_type": "markdown",
   "metadata": {},
   "source": [
    "\n",
    "<a href='https://www.darshan.ac.in/'> <img src='https://www.darshan.ac.in/Content/media/DU_Logo.svg' width=\"250\" height=\"300\"/></a>\n",
    "<pre>\n",
    "<center><b><h1>Python Programming - 2101CS405</b></center>\n",
    "<center><b><h1>Lab - 5</b></center>    \n",
    "<pre>"
   ]
  },
  {
   "cell_type": "markdown",
   "metadata": {},
   "source": [
    "# list"
   ]
  },
  {
   "cell_type": "markdown",
   "metadata": {},
   "source": [
    "### 01) WAP to find sum of all the elements in List."
   ]
  },
  {
   "cell_type": "code",
   "execution_count": 22,
   "metadata": {},
   "outputs": [
    {
     "name": "stdout",
     "output_type": "stream",
     "text": [
      "enter length of list:3\n",
      "enter elements:1\n",
      "enter elements:2\n",
      "enter elements:3\n",
      "[1, 2, 3]\n",
      "sum of all element 6\n"
     ]
    }
   ],
   "source": [
    "my_list=[]\n",
    "n=int(input(\"enter length of list:\"))\n",
    "for i in range(n):\n",
    "    l1=int(input('enter elements:'))\n",
    "    my_list.append(l1)\n",
    "print(my_list)\n",
    "sum=0\n",
    "for i in my_list:\n",
    "    sum+=i\n",
    "print(f\"sum of all element {sum}\")"
   ]
  },
  {
   "cell_type": "markdown",
   "metadata": {},
   "source": [
    "### 02) WAP to find largest element in a List."
   ]
  },
  {
   "cell_type": "code",
   "execution_count": 23,
   "metadata": {},
   "outputs": [
    {
     "name": "stdout",
     "output_type": "stream",
     "text": [
      "enter length of list:3\n",
      "enter elements:1\n",
      "enter elements:5\n",
      "enter elements:6\n",
      "[1, 5, 6]\n",
      "6\n"
     ]
    }
   ],
   "source": [
    "my_list=[]\n",
    "n=int(input(\"enter length of list:\"))\n",
    "for i in range(n):\n",
    "    l1=int(input('enter elements:'))\n",
    "    my_list.append(l1)\n",
    "print(my_list)\n",
    "my_list.sort()\n",
    "print(my_list.pop())"
   ]
  },
  {
   "cell_type": "markdown",
   "metadata": {},
   "source": [
    "### 03) WAP to split the List into two and append the first part to the end."
   ]
  },
  {
   "cell_type": "code",
   "execution_count": 32,
   "metadata": {},
   "outputs": [
    {
     "name": "stdout",
     "output_type": "stream",
     "text": [
      "enter length of list:3\n",
      "enter elements:1\n",
      "enter elements:2\n",
      "enter elements:3\n",
      "entered list: ['1', '2', '3']\n",
      "append list:['1', '2', '3', '1']\n"
     ]
    }
   ],
   "source": [
    "my_list=[]\n",
    "n=int(input(\"enter length of list:\"))\n",
    "for i in range(n):\n",
    "    l1=(input('enter elements:'))\n",
    "    my_list.append(l1)\n",
    "print(f\"entered list: {my_list}\")\n",
    "\n",
    "new_list=my_list[0:len(my_list)//2:1]\n",
    "#new_list_2=my_list[2::]\n",
    "my_list.extend(new_list)\n",
    "print(f\"append list:{my_list}\")"
   ]
  },
  {
   "cell_type": "markdown",
   "metadata": {},
   "source": [
    "### 04) WAP to interchange first and last elements in list entered by a user."
   ]
  },
  {
   "cell_type": "code",
   "execution_count": 36,
   "metadata": {},
   "outputs": [
    {
     "name": "stdout",
     "output_type": "stream",
     "text": [
      "enter length of list:4\n",
      "enter elements:55\n",
      "enter elements:33\n",
      "enter elements:11\n",
      "enter elements:22\n",
      "['22', '33', '11', '55']\n"
     ]
    }
   ],
   "source": [
    "my_list=[]\n",
    "n=int(input(\"enter length of list:\"))\n",
    "for i in range(n):\n",
    "    l1=(input('enter elements:'))\n",
    "    my_list.append(l1)\n",
    "my_list[0],my_list[-1]=my_list[-1],my_list[0]\n",
    "print(my_list)\n"
   ]
  },
  {
   "cell_type": "markdown",
   "metadata": {},
   "source": [
    "### 05) WAP to interchange the elements on two positions entered by a user."
   ]
  },
  {
   "cell_type": "code",
   "execution_count": 41,
   "metadata": {},
   "outputs": [
    {
     "name": "stdout",
     "output_type": "stream",
     "text": [
      "enter length of list:3\n",
      "enter elements:1\n",
      "enter elements:2\n",
      "enter elements:3\n",
      "enter index0\n",
      "enter index1\n",
      "['2', '1', '3']\n"
     ]
    }
   ],
   "source": [
    "my_list=[]\n",
    "\n",
    "n=int(input(\"enter length of list:\"))\n",
    "for i in range(n):\n",
    "    l1=(input('enter elements:'))\n",
    "    my_list.append(l1)\n",
    "a,b=int(input(\"enter index\")),int(input(\"enter index\"))\n",
    "my_list[a],my_list[b]=my_list[b],my_list[a]\n",
    "print(my_list)\n"
   ]
  },
  {
   "cell_type": "markdown",
   "metadata": {},
   "source": [
    "### 06) WAP to reverses the list entered by user."
   ]
  },
  {
   "cell_type": "code",
   "execution_count": 43,
   "metadata": {},
   "outputs": [
    {
     "name": "stdout",
     "output_type": "stream",
     "text": [
      "enter length of list:3\n",
      "enter elements:1\n",
      "enter elements:2\n",
      "enter elements:3\n"
     ]
    },
    {
     "data": {
      "text/plain": [
       "['3', '2', '1']"
      ]
     },
     "execution_count": 43,
     "metadata": {},
     "output_type": "execute_result"
    }
   ],
   "source": [
    "my_list=[]\n",
    "n=int(input(\"enter length of list:\"))\n",
    "for i in range(n):\n",
    "    l1=(input('enter elements:'))\n",
    "    my_list.append(l1)\n",
    "my_list.reverse()\n",
    "my_list\n"
   ]
  },
  {
   "cell_type": "markdown",
   "metadata": {},
   "source": [
    "### 07) Python program to remove multiple elements from a list using list comprehension"
   ]
  },
  {
   "cell_type": "code",
   "execution_count": 47,
   "metadata": {},
   "outputs": [
    {
     "name": "stdout",
     "output_type": "stream",
     "text": [
      "enter length of list:4\n",
      "enter elements:12\n",
      "enter elements:23\n",
      "enter elements:34\n",
      "enter elements:44\n",
      "enter no of elements to delete :2\n",
      "enter element:12\n",
      "enter element:34\n"
     ]
    },
    {
     "data": {
      "text/plain": [
       "['23', '44']"
      ]
     },
     "execution_count": 47,
     "metadata": {},
     "output_type": "execute_result"
    }
   ],
   "source": [
    "my_list=[]\n",
    "n=int(input(\"enter length of list:\"))\n",
    "for i in range(n):\n",
    "    l1=(input('enter elements:'))\n",
    "    my_list.append(l1)\n",
    "a=int(input(\"enter no of elements to delete :\"))\n",
    "for _ in range(a):\n",
    "    n=input(\"enter element:\")\n",
    "    my_list.remove(n)\n",
    "    \n",
    "my_list\n"
   ]
  },
  {
   "cell_type": "markdown",
   "metadata": {},
   "source": [
    "### 08) Create a list from the specified start to end index of another list."
   ]
  },
  {
   "cell_type": "code",
   "execution_count": 50,
   "metadata": {},
   "outputs": [
    {
     "name": "stdout",
     "output_type": "stream",
     "text": [
      "enter length of list:4\n",
      "enter elements:1\n",
      "enter elements:2\n",
      "enter elements:3\n",
      "enter elements:4\n",
      "enter starting index0\n",
      "enter ending index3\n",
      "['1', '2', '3']\n"
     ]
    }
   ],
   "source": [
    "my_list=[]\n",
    "n=int(input(\"enter length of list:\"))\n",
    "for i in range(n):\n",
    "    l1=(input('enter elements:'))\n",
    "    my_list.append(l1)\n",
    "a,b=int(input(\"enter starting index\")),int(input(\"enter ending index\"))\n",
    "nl=my_list[a:b]\n",
    "print(nl)"
   ]
  },
  {
   "cell_type": "markdown",
   "metadata": {},
   "source": [
    "### 09) Input comma separated elements, convert into list and print."
   ]
  },
  {
   "cell_type": "code",
   "execution_count": 52,
   "metadata": {},
   "outputs": [
    {
     "name": "stdout",
     "output_type": "stream",
     "text": [
      "enter string by comma(,) sperated value:dev,kathiriya\n"
     ]
    },
    {
     "data": {
      "text/plain": [
       "['dev', 'kathiriya']"
      ]
     },
     "execution_count": 52,
     "metadata": {},
     "output_type": "execute_result"
    }
   ],
   "source": [
    "temp=input(\"enter string by comma(,) sperated value:\")\n",
    "lt=temp.split(\",\")\n",
    "lt"
   ]
  },
  {
   "cell_type": "markdown",
   "metadata": {},
   "source": [
    "### 01) WAP to count Even and Odd numbers in a List."
   ]
  },
  {
   "cell_type": "code",
   "execution_count": 55,
   "metadata": {},
   "outputs": [
    {
     "name": "stdout",
     "output_type": "stream",
     "text": [
      "enter length of list:4\n",
      "enter elements:1\n",
      "enter elements:2\n",
      "enter elements:3\n",
      "enter elements:4\n",
      "oddcount:2\n",
      "evencount:2\n"
     ]
    }
   ],
   "source": [
    "my_list=[]\n",
    "oddcount=0\n",
    "evencount=0\n",
    "n=int(input(\"enter length of list:\"))\n",
    "for i in range(n):\n",
    "    l1=int(input('enter elements:'))\n",
    "    my_list.append(l1)\n",
    "    if i%2==0:\n",
    "        evencount+=1\n",
    "    else:\n",
    "        oddcount+=1\n",
    "print(f\"oddcount:{oddcount}\")\n",
    "print(f\"evencount:{evencount}\")\n"
   ]
  },
  {
   "cell_type": "markdown",
   "metadata": {},
   "source": [
    "### 02) Python program to find N largest and smallest elements from the list"
   ]
  },
  {
   "cell_type": "code",
   "execution_count": 56,
   "metadata": {},
   "outputs": [
    {
     "name": "stdout",
     "output_type": "stream",
     "text": [
      "enter length of list:5\n",
      "enter elements:1\n",
      "enter elements:2\n",
      "enter elements:3\n",
      "enter elements:4\n",
      "enter elements:5\n",
      "enter number:2\n",
      "largest:['5', '4']\n",
      "smallest:['1', '2']\n"
     ]
    }
   ],
   "source": [
    "my_list=[]\n",
    "n=int(input(\"enter length of list:\"))\n",
    "for i in range(n):\n",
    "    l1=(input('enter elements:'))\n",
    "    my_list.append(l1)\n",
    "m=int(input(\"enter number:\"))\n",
    "my_list.sort()\n",
    "print(f\"largest:{my_list[:-m-1:-1]}\\nsmallest:{my_list[:m]}\")\n"
   ]
  },
  {
   "cell_type": "markdown",
   "metadata": {},
   "source": [
    "### 03) WAP to print duplicates from a list of integers"
   ]
  },
  {
   "cell_type": "code",
   "execution_count": 8,
   "metadata": {},
   "outputs": [
    {
     "name": "stdout",
     "output_type": "stream",
     "text": [
      "enter length of list:5\n",
      "enter elements:11\n",
      "enter elements:22\n",
      "enter elements:22\n",
      "enter elements:22\n",
      "enter elements:22\n"
     ]
    },
    {
     "data": {
      "text/plain": [
       "{'22'}"
      ]
     },
     "execution_count": 8,
     "metadata": {},
     "output_type": "execute_result"
    }
   ],
   "source": [
    "my_list=[]\n",
    "n=int(input(\"enter length of list:\"))\n",
    "for i in range(n):\n",
    "    l1=(input('enter elements:'))\n",
    "    my_list.append(l1)\n",
    "my_list.sort()\n",
    "lt=set()\n",
    "for i in range(n-1):\n",
    "    if my_list[i]==my_list[i+1]:\n",
    "        lt.add(my_list[i])\n",
    "lt"
   ]
  }
 ],
 "metadata": {
  "kernelspec": {
   "display_name": "Python 3 (ipykernel)",
   "language": "python",
   "name": "python3"
  },
  "language_info": {
   "codemirror_mode": {
    "name": "ipython",
    "version": 3
   },
   "file_extension": ".py",
   "mimetype": "text/x-python",
   "name": "python",
   "nbconvert_exporter": "python",
   "pygments_lexer": "ipython3",
   "version": "3.9.13"
  }
 },
 "nbformat": 4,
 "nbformat_minor": 4
}
