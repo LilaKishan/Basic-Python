{
 "cells": [
  {
   "attachments": {},
   "cell_type": "markdown",
   "metadata": {},
   "source": [
    "<a href='https://www.darshan.ac.in/'> <img src='https://www.darshan.ac.in/Content/media/DU_Logo.svg' width=\"250\" height=\"300\"/></a>\n",
    "<pre>\n",
    "<center><b><h1>Python Programming - 2101CS405</b></center>\n",
    "<center><b><h1>Lab - 6</b></center>    \n",
    "<pre>"
   ]
  },
  {
   "cell_type": "markdown",
   "metadata": {},
   "source": [
    "# Tuples, dictionary, set"
   ]
  },
  {
   "cell_type": "markdown",
   "metadata": {},
   "source": [
    "# A"
   ]
  },
  {
   "cell_type": "markdown",
   "metadata": {},
   "source": [
    "### 01) WAP to sort python dictionary by key or value."
   ]
  },
  {
   "cell_type": "code",
   "execution_count": 8,
   "metadata": {},
   "outputs": [
    {
     "name": "stdout",
     "output_type": "stream",
     "text": [
      "{1: 'abc', 2: 'ghi', 3: 'xyz'}\n"
     ]
    }
   ],
   "source": [
    "d={1:\"abc\",3:\"xyz\",2:\"ghi\"}\n",
    "for i in d:\n",
    "    li=sorted(d.items())\n",
    "d=dict(li)\n",
    "print(d)"
   ]
  },
  {
   "cell_type": "markdown",
   "metadata": {},
   "source": [
    "### 02) WAP to merge two dictionaries given by user."
   ]
  },
  {
   "cell_type": "code",
   "execution_count": 11,
   "metadata": {},
   "outputs": [
    {
     "name": "stdout",
     "output_type": "stream",
     "text": [
      "{'1': 'kishan'}\n",
      "{'2': 'lila', '3': 'rajkot'}\n",
      "merged dictionaries:{'1': 'kishan', '2': 'lila', '3': 'rajkot'}\n"
     ]
    }
   ],
   "source": [
    "di_1={}\n",
    "c=int(input(\"enter how many elements in dictionary_1:\"))\n",
    "for i in range(c):\n",
    "    keys=input(\"Enter keys:\")\n",
    "    values=input(\"Enter values:\")\n",
    "    di_1[keys]=values\n",
    "print(di_1)\n",
    "di_2={}\n",
    "d=int(input(\"enter how many elements in dictionary_2:\"))\n",
    "for i in range(d):\n",
    "    keys=input(\"Enter keys:\")\n",
    "    values=input(\"Enter values:\")\n",
    "    di_2[keys]=values\n",
    "print(di_2)\n",
    "\n",
    "print(f\"merged dictionaries:{di_1 | di_2}\")"
   ]
  },
  {
   "cell_type": "markdown",
   "metadata": {},
   "source": [
    "### 03) WAP to find tuples that have all elements divisible by K from a list of tuples."
   ]
  },
  {
   "cell_type": "code",
   "execution_count": 13,
   "metadata": {},
   "outputs": [
    {
     "data": {
      "text/plain": [
       "[(4, 6)]"
      ]
     },
     "execution_count": 13,
     "metadata": {},
     "output_type": "execute_result"
    }
   ],
   "source": [
    "di=[(1,2),(4,6),(3,6)]\n",
    "k=2\n",
    "for i in di:\n",
    "    ans=[j for j in di if all(ele%k==0 for ele in j)]\n",
    "ans"
   ]
  },
  {
   "cell_type": "markdown",
   "metadata": {},
   "source": [
    "### 04) WAP to find Tuples with positive elements in List of tuples."
   ]
  },
  {
   "cell_type": "code",
   "execution_count": 16,
   "metadata": {},
   "outputs": [
    {
     "data": {
      "text/plain": [
       "[(3, 6)]"
      ]
     },
     "execution_count": 16,
     "metadata": {},
     "output_type": "execute_result"
    }
   ],
   "source": [
    "di=[(1,-2),(-4,6),(3,6)]\n",
    "for i in di:\n",
    "    ans=[j for j in di if all(ele >=0 for ele in j)]\n",
    "ans"
   ]
  },
  {
   "cell_type": "markdown",
   "metadata": {},
   "source": [
    "### 05) WAP which perform union of two sets."
   ]
  },
  {
   "cell_type": "code",
   "execution_count": 17,
   "metadata": {},
   "outputs": [
    {
     "data": {
      "text/plain": [
       "{1, 2, 3, 4, 5, 11, 12}"
      ]
     },
     "execution_count": 17,
     "metadata": {},
     "output_type": "execute_result"
    }
   ],
   "source": [
    "s1={1,2,11,12,11,12}\n",
    "s2={2,3,4,5}\n",
    "s3=s1.union(s2)\n",
    "s3"
   ]
  },
  {
   "cell_type": "markdown",
   "metadata": {},
   "source": [
    "# B"
   ]
  },
  {
   "cell_type": "markdown",
   "metadata": {},
   "source": [
    "### 01) WAP to convert binary tuple into integer."
   ]
  },
  {
   "cell_type": "code",
   "execution_count": 19,
   "metadata": {},
   "outputs": [
    {
     "data": {
      "text/plain": [
       "5"
      ]
     },
     "execution_count": 19,
     "metadata": {},
     "output_type": "execute_result"
    }
   ],
   "source": [
    "my_tuple=(1,0,1)\n",
    "ans=int(\"\".join(str(ele) for ele in my_tuple),2)\n",
    "ans\n"
   ]
  },
  {
   "cell_type": "markdown",
   "metadata": {},
   "source": [
    "### 02) WAP to count frequency in list by dictionary."
   ]
  },
  {
   "cell_type": "code",
   "execution_count": 20,
   "metadata": {},
   "outputs": [
    {
     "data": {
      "text/plain": [
       "{'a': 3, 'b': 2, 'c': 2}"
      ]
     },
     "execution_count": 20,
     "metadata": {},
     "output_type": "execute_result"
    }
   ],
   "source": [
    "li=['a','a','a','b','b','c','c']\n",
    "fre={}\n",
    "for i in li:\n",
    "    if(i in fre):\n",
    "        fre[i]+=1\n",
    "    else:\n",
    "        fre[i]=1\n",
    "fre"
   ]
  },
  {
   "cell_type": "markdown",
   "metadata": {},
   "source": [
    "### 03) WAP to remove all the duplicate words from the list using dictionary."
   ]
  },
  {
   "cell_type": "code",
   "execution_count": 28,
   "metadata": {},
   "outputs": [
    {
     "data": {
      "text/plain": [
       "[1, 2, 3]"
      ]
     },
     "execution_count": 28,
     "metadata": {},
     "output_type": "execute_result"
    }
   ],
   "source": [
    "li=['a','a','a','b','b','c','c','d','d']\n",
    "di=list(dict.fromkeys(li))\n",
    "di"
   ]
  }
 ],
 "metadata": {
  "kernelspec": {
   "display_name": "Python 3 (ipykernel)",
   "language": "python",
   "name": "python3"
  },
  "language_info": {
   "codemirror_mode": {
    "name": "ipython",
    "version": 3
   },
   "file_extension": ".py",
   "mimetype": "text/x-python",
   "name": "python",
   "nbconvert_exporter": "python",
   "pygments_lexer": "ipython3",
   "version": "3.10.4"
  }
 },
 "nbformat": 4,
 "nbformat_minor": 4
}
